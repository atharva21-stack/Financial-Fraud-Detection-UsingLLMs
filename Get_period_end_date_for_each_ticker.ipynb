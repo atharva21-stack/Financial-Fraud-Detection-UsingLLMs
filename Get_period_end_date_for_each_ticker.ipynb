{
  "nbformat": 4,
  "nbformat_minor": 0,
  "metadata": {
    "colab": {
      "name": "Get-period-end-date-for-each-ticker.ipynb",
      "provenance": []
    },
    "kernelspec": {
      "name": "python3",
      "display_name": "Python 3"
    },
    "language_info": {
      "name": "python"
    }
  },
  "cells": [
    {
      "cell_type": "code",
      "execution_count": 1,
      "metadata": {
        "id": "wRURdE3ynhPy",
        "outputId": "a3a18a0d-6443-4d4b-cf50-b27e4a90355d",
        "colab": {
          "base_uri": "https://localhost:8080/"
        }
      },
      "outputs": [
        {
          "output_type": "stream",
          "name": "stdout",
          "text": [
            "Collecting sec-api\n",
            "  Downloading sec_api-1.0.16-py3-none-any.whl (16 kB)\n",
            "Requirement already satisfied: requests in /usr/local/lib/python3.10/dist-packages (from sec-api) (2.27.1)\n",
            "Requirement already satisfied: urllib3<1.27,>=1.21.1 in /usr/local/lib/python3.10/dist-packages (from requests->sec-api) (1.26.16)\n",
            "Requirement already satisfied: certifi>=2017.4.17 in /usr/local/lib/python3.10/dist-packages (from requests->sec-api) (2023.5.7)\n",
            "Requirement already satisfied: charset-normalizer~=2.0.0 in /usr/local/lib/python3.10/dist-packages (from requests->sec-api) (2.0.12)\n",
            "Requirement already satisfied: idna<4,>=2.5 in /usr/local/lib/python3.10/dist-packages (from requests->sec-api) (3.4)\n",
            "Installing collected packages: sec-api\n",
            "Successfully installed sec-api-1.0.16\n"
          ]
        }
      ],
      "source": [
        "pip install sec-api"
      ]
    },
    {
      "cell_type": "code",
      "source": [
        "from sec_api import QueryApi\n",
        "\n",
        "queryApi = QueryApi(api_key=\"c50d2b3d65b4de5d80efb7f4f227737bf0ba463c7c477d4cf18fb5df59784168\")"
      ],
      "metadata": {
        "id": "K0bvfEuQnmqH"
      },
      "execution_count": 14,
      "outputs": []
    },
    {
      "cell_type": "code",
      "source": [
        "companies = [\"AAPL\", \"MSFT\", \"GOOG\"]\n",
        "years = [\"2021\", \"2020\", \"2019\"]\n"
      ],
      "metadata": {
        "id": "b-BpXdihmr0i"
      },
      "execution_count": 15,
      "outputs": []
    },
    {
      "cell_type": "code",
      "source": [
        "for company in companies:\n",
        "    for year in years:\n",
        "        query = {\n",
        "            \"query\": {\n",
        "                \"query_string\": {\n",
        "                    \"query\": f\"ticker:{company} AND formType:\\\"10-K\\\" AND NOT formType:\\\"NT 10-K\\\" AND NOT formType:\\\"10-K/A\\\" AND filedAt:[{year}-01-01 TO {year}-12-31]\",\n",
        "                    \"time_zone\": \"America/New_York\"\n",
        "                }\n",
        "            },\n",
        "            \"from\": \"0\",\n",
        "            \"size\": \"10\",\n",
        "            \"sort\": [{ \"filedAt\": { \"order\": \"desc\" } }]\n",
        "        }\n",
        "\n"
      ],
      "metadata": {
        "id": "Z9Ifm6I0mvRk"
      },
      "execution_count": 16,
      "outputs": []
    },
    {
      "cell_type": "code",
      "source": [
        "# query = {\n",
        "#   \"query\": { \"query_string\": {\n",
        "#       \"query\": \"formType:\\\"10-K\\\" \" +\n",
        "#                \"AND NOT formType:\\\"NT 10-K\\\" \" +\n",
        "#                \"AND NOT formType:\\\"10-K/A\\\" \" +\n",
        "#                \"AND filedAt:[2021-01-01 TO 2021-12-31]\",\n",
        "#       \"time_zone\": \"America/New_York\"\n",
        "#   } },\n",
        "#   \"from\": \"0\",\n",
        "#   \"size\": \"10\",\n",
        "#   \"sort\": [{ \"filedAt\": { \"order\": \"desc\" } }]\n",
        "# }\n",
        "\n",
        "# response = queryApi.get_filings(query)"
      ],
      "metadata": {
        "id": "5gUDwK4onwNY"
      },
      "execution_count": 3,
      "outputs": []
    },
    {
      "cell_type": "code",
      "source": [
        "response = queryApi.get_filings(query)\n"
      ],
      "metadata": {
        "id": "hPtugzVBm4py"
      },
      "execution_count": 17,
      "outputs": []
    },
    {
      "cell_type": "code",
      "source": [
        "response"
      ],
      "metadata": {
        "id": "LECsit9uoF52",
        "outputId": "c52fb0dc-076e-414e-b139-597cf9c8c942",
        "colab": {
          "base_uri": "https://localhost:8080/"
        }
      },
      "execution_count": 22,
      "outputs": [
        {
          "output_type": "execute_result",
          "data": {
            "text/plain": [
              "{'total': {'value': 1, 'relation': 'eq'},\n",
              " 'query': {'from': 0, 'size': 10},\n",
              " 'filings': [{'id': '1ed6cb98d658b4ab158f267ed44ddaf6',\n",
              "   'accessionNo': '0001652044-19-000004',\n",
              "   'cik': '1652044',\n",
              "   'ticker': 'GOOG',\n",
              "   'companyName': 'Alphabet Inc.',\n",
              "   'companyNameLong': 'Alphabet Inc. (Filer)',\n",
              "   'formType': '10-K',\n",
              "   'description': 'Form 10-K - Annual report [Section 13 and 15(d), not S-K Item 405]',\n",
              "   'filedAt': '2019-02-04T21:06:38-05:00',\n",
              "   'linkToTxt': 'https://www.sec.gov/Archives/edgar/data/1652044/000165204419000004/0001652044-19-000004.txt',\n",
              "   'linkToHtml': 'https://www.sec.gov/Archives/edgar/data/1652044/0001652044-19-000004-index.htm',\n",
              "   'linkToXbrl': '',\n",
              "   'linkToFilingDetails': 'https://www.sec.gov/Archives/edgar/data/1652044/000165204419000004/goog10-kq42018.htm',\n",
              "   'entities': [{'companyName': 'Alphabet Inc. (Filer)',\n",
              "     'cik': '1652044',\n",
              "     'irsNo': '611767919',\n",
              "     'stateOfIncorporation': 'DE',\n",
              "     'fiscalYearEnd': '1231',\n",
              "     'type': '10-K',\n",
              "     'act': '34',\n",
              "     'fileNo': '001-37580',\n",
              "     'filmNo': '19566006',\n",
              "     'sic': '7370 Services-Computer Programming, Data Processing, Etc.'}],\n",
              "   'documentFormatFiles': [{'sequence': '1',\n",
              "     'description': '10-K',\n",
              "     'documentUrl': 'https://www.sec.gov/Archives/edgar/data/1652044/000165204419000004/goog10-kq42018.htm',\n",
              "     'type': '10-K',\n",
              "     'size': '2738368'},\n",
              "    {'sequence': '2',\n",
              "     'description': 'EXHIBIT 21.01',\n",
              "     'documentUrl': 'https://www.sec.gov/Archives/edgar/data/1652044/000165204419000004/googexhibit2101q42018.htm',\n",
              "     'type': 'EX-21.01',\n",
              "     'size': '4474'},\n",
              "    {'sequence': '3',\n",
              "     'description': 'EXHIBIT 23.01',\n",
              "     'documentUrl': 'https://www.sec.gov/Archives/edgar/data/1652044/000165204419000004/googexhibit2301q42018.htm',\n",
              "     'type': 'EX-23.01',\n",
              "     'size': '8574'},\n",
              "    {'sequence': '4',\n",
              "     'description': 'EXHIBIT 31.01',\n",
              "     'documentUrl': 'https://www.sec.gov/Archives/edgar/data/1652044/000165204419000004/googexhibit3101q42018.htm',\n",
              "     'type': 'EX-31.01',\n",
              "     'size': '12394'},\n",
              "    {'sequence': '5',\n",
              "     'description': 'EXHIBIT 31.02',\n",
              "     'documentUrl': 'https://www.sec.gov/Archives/edgar/data/1652044/000165204419000004/googexhibit3102q42018.htm',\n",
              "     'type': 'EX-31.02',\n",
              "     'size': '12643'},\n",
              "    {'sequence': '6',\n",
              "     'description': 'EXHIBIT 32.01',\n",
              "     'documentUrl': 'https://www.sec.gov/Archives/edgar/data/1652044/000165204419000004/googexhibit3201q42018.htm',\n",
              "     'type': 'EX-32.01',\n",
              "     'size': '9821'},\n",
              "    {'sequence': '13',\n",
              "     'documentUrl': 'https://www.sec.gov/Archives/edgar/data/1652044/000165204419000004/chart-7c2ecf1250415c72a9ca01.jpg',\n",
              "     'type': 'GRAPHIC',\n",
              "     'size': '79730'},\n",
              "    {'sequence': '14',\n",
              "     'documentUrl': 'https://www.sec.gov/Archives/edgar/data/1652044/000165204419000004/chart-d02c77e5831a57f6997a01.jpg',\n",
              "     'type': 'GRAPHIC',\n",
              "     'size': '77686'},\n",
              "    {'sequence': '\\xa0',\n",
              "     'description': 'Complete submission text file',\n",
              "     'documentUrl': 'https://www.sec.gov/Archives/edgar/data/1652044/000165204419000004/0001652044-19-000004.txt',\n",
              "     'type': '\\xa0',\n",
              "     'size': '14192672'}],\n",
              "   'dataFiles': [{'sequence': '7',\n",
              "     'description': 'XBRL INSTANCE DOCUMENT',\n",
              "     'documentUrl': 'https://www.sec.gov/Archives/edgar/data/1652044/000165204419000004/goog-20181231.xml',\n",
              "     'type': 'EX-101.INS',\n",
              "     'size': '3571161'},\n",
              "    {'sequence': '8',\n",
              "     'description': 'XBRL TAXONOMY EXTENSION SCHEMA DOCUMENT',\n",
              "     'documentUrl': 'https://www.sec.gov/Archives/edgar/data/1652044/000165204419000004/goog-20181231.xsd',\n",
              "     'type': 'EX-101.SCH',\n",
              "     'size': '72355'},\n",
              "    {'sequence': '9',\n",
              "     'description': 'XBRL TAXONOMY EXTENSION CALCULATION LINKBASE DOCUMENT',\n",
              "     'documentUrl': 'https://www.sec.gov/Archives/edgar/data/1652044/000165204419000004/goog-20181231_cal.xml',\n",
              "     'type': 'EX-101.CAL',\n",
              "     'size': '170019'},\n",
              "    {'sequence': '10',\n",
              "     'description': 'XBRL TAXONOMY EXTENSION DEFINITION LINKBASE DOCUMENT',\n",
              "     'documentUrl': 'https://www.sec.gov/Archives/edgar/data/1652044/000165204419000004/goog-20181231_def.xml',\n",
              "     'type': 'EX-101.DEF',\n",
              "     'size': '424453'},\n",
              "    {'sequence': '11',\n",
              "     'description': 'XBRL TAXONOMY EXTENSION LABEL LINKBASE DOCUMENT',\n",
              "     'documentUrl': 'https://www.sec.gov/Archives/edgar/data/1652044/000165204419000004/goog-20181231_lab.xml',\n",
              "     'type': 'EX-101.LAB',\n",
              "     'size': '1119965'},\n",
              "    {'sequence': '12',\n",
              "     'description': 'XBRL TAXONOMY EXTENSION PRESENTATION LINKBASE DOCUMENT',\n",
              "     'documentUrl': 'https://www.sec.gov/Archives/edgar/data/1652044/000165204419000004/goog-20181231_pre.xml',\n",
              "     'type': 'EX-101.PRE',\n",
              "     'size': '668244'}],\n",
              "   'seriesAndClassesContractsInformation': [],\n",
              "   'periodOfReport': '2018-12-31'}]}"
            ]
          },
          "metadata": {},
          "execution_count": 22
        }
      ]
    },
    {
      "cell_type": "code",
      "source": [
        "response['filings'][0]['linkToTxt']"
      ],
      "metadata": {
        "id": "pkkRV04ioo2I",
        "outputId": "d0864ba7-4bd5-44ee-b02e-c6b03a2159b9",
        "colab": {
          "base_uri": "https://localhost:8080/",
          "height": 35
        }
      },
      "execution_count": 23,
      "outputs": [
        {
          "output_type": "execute_result",
          "data": {
            "text/plain": [
              "'https://www.sec.gov/Archives/edgar/data/1652044/000165204419000004/0001652044-19-000004.txt'"
            ],
            "application/vnd.google.colaboratory.intrinsic+json": {
              "type": "string"
            }
          },
          "metadata": {},
          "execution_count": 23
        }
      ]
    },
    {
      "cell_type": "markdown",
      "source": [
        "Let's inspect the Query API response and print a subset of properties of each filing, namely `formType` and `periodOfReport`. The filings live in the `response[\"filings\"]` list.\n",
        "\n",
        "Feel free to skip the next lines if you're familiar with the use of `map` and `lambda`. The `map` function applies the `lambda` function to every filing in the list of filings. The `lambda` function simply returns a new dict for each filing by extracting the `formType` and `periodOfReport` property from the filing, and setting both values as the values of the new dict. Finally, the result of the `map` function is converted into a new list."
      ],
      "metadata": {
        "id": "rAnjAzIOs5RK"
      }
    },
    {
      "cell_type": "code",
      "source": [
        "list(map(lambda x: {\"formType\": x[\"formType\"], \"periodOfReport\": x[\"periodOfReport\"]}, response[\"filings\"]))"
      ],
      "metadata": {
        "colab": {
          "base_uri": "https://localhost:8080/"
        },
        "id": "1sHVNwjvrozO",
        "outputId": "d5f58668-be7f-4f80-ba75-18dfe4e6e816"
      },
      "execution_count": 18,
      "outputs": [
        {
          "output_type": "execute_result",
          "data": {
            "text/plain": [
              "[{'formType': '10-K', 'periodOfReport': '2018-12-31'}]"
            ]
          },
          "metadata": {},
          "execution_count": 18
        }
      ]
    },
    {
      "cell_type": "code",
      "source": [
        "period_by_cik = {}\n",
        "period_by_ticker = {}\n",
        "\n",
        "for filing in response[\"filings\"]:\n",
        "  cik, ticker, periodOfReport = filing[\"cik\"], filing[\"ticker\"], filing[\"periodOfReport\"]\n",
        "\n",
        "  if not cik in period_by_cik:\n",
        "    period_by_cik[cik] = []\n",
        "\n",
        "  if not periodOfReport in period_by_cik[cik]:\n",
        "    period_by_cik[cik].append(periodOfReport)\n",
        "\n",
        "  if len(ticker) > 0:\n",
        "    if not ticker in period_by_ticker:\n",
        "      period_by_ticker[ticker] = []\n",
        "\n",
        "    if not periodOfReport in period_by_ticker[ticker]:\n",
        "      period_by_ticker[ticker].append(periodOfReport)"
      ],
      "metadata": {
        "id": "BQIKItfzoS7h"
      },
      "execution_count": 19,
      "outputs": []
    },
    {
      "cell_type": "code",
      "source": [
        "period_by_cik"
      ],
      "metadata": {
        "colab": {
          "base_uri": "https://localhost:8080/"
        },
        "id": "8DM91H6BpGfg",
        "outputId": "fc16950d-b76a-4acb-b3c8-9c378d75612c"
      },
      "execution_count": 20,
      "outputs": [
        {
          "output_type": "execute_result",
          "data": {
            "text/plain": [
              "{'1652044': ['2018-12-31']}"
            ]
          },
          "metadata": {},
          "execution_count": 20
        }
      ]
    },
    {
      "cell_type": "code",
      "source": [
        "period_by_ticker"
      ],
      "metadata": {
        "colab": {
          "base_uri": "https://localhost:8080/"
        },
        "id": "xoJrkYpBpucf",
        "outputId": "b644d8a2-759c-419a-f431-86e26e118959"
      },
      "execution_count": 21,
      "outputs": [
        {
          "output_type": "execute_result",
          "data": {
            "text/plain": [
              "{'GOOG': ['2018-12-31']}"
            ]
          },
          "metadata": {},
          "execution_count": 21
        }
      ]
    }
  ]
}